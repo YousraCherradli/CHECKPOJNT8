{
 "cells": [
  {
   "cell_type": "code",
   "execution_count": 1,
   "id": "555fc2f7",
   "metadata": {},
   "outputs": [],
   "source": [
    "import requests\n",
    "from bs4 import BeautifulSoup\n",
    "\n",
    "def get_html_content(url):\n",
    "    page = requests.get(url)\n",
    "    soup = BeautifulSoup(page.content, 'html.parser')\n",
    "    return soup\n"
   ]
  },
  {
   "cell_type": "code",
   "execution_count": 4,
   "id": "5e54b205",
   "metadata": {},
   "outputs": [],
   "source": [
    "def get_article_title(soup):\n",
    "    title = soup.find('h1', {'id': 'firstHeading'}).text\n",
    "    return title\n"
   ]
  },
  {
   "cell_type": "code",
   "execution_count": 5,
   "id": "f0446fb3",
   "metadata": {},
   "outputs": [
    {
     "ename": "SyntaxError",
     "evalue": "invalid syntax (3802878121.py, line 12)",
     "output_type": "error",
     "traceback": [
      "\u001b[1;36m  Input \u001b[1;32mIn [5]\u001b[1;36m\u001b[0m\n\u001b[1;33m    elif sibling.\u001b[0m\n\u001b[1;37m    ^\u001b[0m\n\u001b[1;31mSyntaxError\u001b[0m\u001b[1;31m:\u001b[0m invalid syntax\n"
     ]
    }
   ],
   "source": [
    "def get_article_content(soup):\n",
    "    article_content = {}\n",
    "    sections = soup.find_all('div', {'class': 'mw-parser-output'})\n",
    "    for section in sections:\n",
    "        subheadings = section.find_all(['h2', 'h3'])\n",
    "        for subheading in subheadings:\n",
    "            subheading_text = subheading.text\n",
    "            article_content[subheading_text] = []\n",
    "            for sibling in subheading.find_next_siblings():\n",
    "                if sibling.name in ['h2', 'h3']:\n",
    "                    break\n",
    "            elif sibling.\n"
   ]
  },
  {
   "cell_type": "code",
   "execution_count": 8,
   "id": "54bffd61",
   "metadata": {},
   "outputs": [],
   "source": [
    "def get_internal_links(soup):\n",
    "    internal_links = []\n",
    "    for link in soup.find_all('a'):\n",
    "        href = link.get('href')\n",
    "        if href.startswith('/wiki/'):\n",
    "            internal_links.append(href)\n",
    "    return internal_links\n"
   ]
  },
  {
   "cell_type": "code",
   "execution_count": 9,
   "id": "a96e9ba1",
   "metadata": {},
   "outputs": [],
   "source": [
    "def scrape_wikipedia_page(url):\n",
    "    soup = get_html_content(url)\n",
    "    title = get_article_title(soup)\n",
    "    content = get_article_content(soup)\n",
    "    internal_links = get_internal_links(soup)\n",
    "    return {'title': title, 'content': content, 'internal_links': internal_links}\n"
   ]
  },
  {
   "cell_type": "code",
   "execution_count": 10,
   "id": "8b52c5c6",
   "metadata": {},
   "outputs": [
    {
     "ename": "NameError",
     "evalue": "name 'get_article_content' is not defined",
     "output_type": "error",
     "traceback": [
      "\u001b[1;31m---------------------------------------------------------------------------\u001b[0m",
      "\u001b[1;31mNameError\u001b[0m                                 Traceback (most recent call last)",
      "Input \u001b[1;32mIn [10]\u001b[0m, in \u001b[0;36m<cell line: 2>\u001b[1;34m()\u001b[0m\n\u001b[0;32m      1\u001b[0m wikipedia_url \u001b[38;5;241m=\u001b[39m \u001b[38;5;124m\"\u001b[39m\u001b[38;5;124mhttps://en.wikipedia.org/wiki/Web_scraping\u001b[39m\u001b[38;5;124m\"\u001b[39m\n\u001b[1;32m----> 2\u001b[0m scraped_data \u001b[38;5;241m=\u001b[39m \u001b[43mscrape_wikipedia_page\u001b[49m\u001b[43m(\u001b[49m\u001b[43mwikipedia_url\u001b[49m\u001b[43m)\u001b[49m\n\u001b[0;32m      3\u001b[0m \u001b[38;5;28mprint\u001b[39m(scraped_data)\n",
      "Input \u001b[1;32mIn [9]\u001b[0m, in \u001b[0;36mscrape_wikipedia_page\u001b[1;34m(url)\u001b[0m\n\u001b[0;32m      2\u001b[0m soup \u001b[38;5;241m=\u001b[39m get_html_content(url)\n\u001b[0;32m      3\u001b[0m title \u001b[38;5;241m=\u001b[39m get_article_title(soup)\n\u001b[1;32m----> 4\u001b[0m content \u001b[38;5;241m=\u001b[39m \u001b[43mget_article_content\u001b[49m(soup)\n\u001b[0;32m      5\u001b[0m internal_links \u001b[38;5;241m=\u001b[39m get_internal_links(soup)\n\u001b[0;32m      6\u001b[0m \u001b[38;5;28;01mreturn\u001b[39;00m {\u001b[38;5;124m'\u001b[39m\u001b[38;5;124mtitle\u001b[39m\u001b[38;5;124m'\u001b[39m: title, \u001b[38;5;124m'\u001b[39m\u001b[38;5;124mcontent\u001b[39m\u001b[38;5;124m'\u001b[39m: content, \u001b[38;5;124m'\u001b[39m\u001b[38;5;124minternal_links\u001b[39m\u001b[38;5;124m'\u001b[39m: internal_links}\n",
      "\u001b[1;31mNameError\u001b[0m: name 'get_article_content' is not defined"
     ]
    }
   ],
   "source": [
    "wikipedia_url = \"https://en.wikipedia.org/wiki/Web_scraping\"\n",
    "scraped_data = scrape_wikipedia_page(wikipedia_url)\n",
    "print(scraped_data)\n"
   ]
  },
  {
   "cell_type": "code",
   "execution_count": null,
   "id": "fc35c84e",
   "metadata": {},
   "outputs": [],
   "source": []
  }
 ],
 "metadata": {
  "kernelspec": {
   "display_name": "Python 3 (ipykernel)",
   "language": "python",
   "name": "python3"
  },
  "language_info": {
   "codemirror_mode": {
    "name": "ipython",
    "version": 3
   },
   "file_extension": ".py",
   "mimetype": "text/x-python",
   "name": "python",
   "nbconvert_exporter": "python",
   "pygments_lexer": "ipython3",
   "version": "3.9.13"
  }
 },
 "nbformat": 4,
 "nbformat_minor": 5
}
